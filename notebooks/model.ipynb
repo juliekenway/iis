{
 "cells": [
  {
   "cell_type": "code",
   "execution_count": 1,
   "metadata": {},
   "outputs": [],
   "source": [
    "import numpy as np\n",
    "import pandas as pd\n",
    "from sklearn.model_selection import train_test_split\n",
    "from sklearn.linear_model import LinearRegression\n",
    "from sklearn import metrics\n",
    "import pickle"
   ]
  },
  {
   "cell_type": "code",
   "execution_count": 2,
   "metadata": {},
   "outputs": [],
   "source": [
    "csv_dataset = '../data/processed.csv'\n",
    "csv = pd.read_csv(csv_dataset, encoding='utf_8')\n",
    "df = pd.DataFrame(csv)"
   ]
  },
  {
   "cell_type": "code",
   "execution_count": 3,
   "metadata": {},
   "outputs": [],
   "source": [
    "mask = df.columns != 'pm10'\n",
    "\n",
    "x = df.loc[:, mask]\n",
    "y = df['pm10']\n",
    "\n",
    "x_train, x_test, y_train, y_test = train_test_split(x, y, test_size=0.3, random_state=1234, shuffle=True)\n",
    "model = LinearRegression().fit(x_train, y_train)\n",
    "pickle.dump(model, open('../models/linear', 'wb'))"
   ]
  },
  {
   "cell_type": "code",
   "execution_count": 4,
   "metadata": {},
   "outputs": [],
   "source": [
    "prediction = model.predict(x_train)\n",
    "\n",
    "with open('../reports/train_metrics.txt', 'w') as file:\n",
    "    file.write('MAE:' + str(metrics.mean_absolute_error(y_train, prediction, )) + '\\n')\n",
    "    file.write('MSE:' + str(metrics.mean_squared_error(y_train, prediction)) + '\\n')\n",
    "    file.write('EVS:' + str(metrics.explained_variance_score(y_train, prediction)) + '\\n')"
   ]
  },
  {
   "cell_type": "code",
   "execution_count": 5,
   "metadata": {},
   "outputs": [],
   "source": [
    "prediction = model.predict(x_test)\n",
    "\n",
    "with open('../reports/metrics.txt', 'w') as file:\n",
    "    file.write('MAE:' + str(metrics.mean_absolute_error(y_test, prediction, )) + '\\n')\n",
    "    file.write('MSE:' + str(metrics.mean_squared_error(y_test, prediction)) + '\\n')\n",
    "    file.write('EVS:' + str(metrics.explained_variance_score(y_test, prediction)) + '\\n')"
   ]
  }
 ],
 "metadata": {
  "kernelspec": {
   "display_name": "Python 3",
   "language": "python",
   "name": "python3"
  },
  "language_info": {
   "codemirror_mode": {
    "name": "ipython",
    "version": 3
   },
   "file_extension": ".py",
   "mimetype": "text/x-python",
   "name": "python",
   "nbconvert_exporter": "python",
   "pygments_lexer": "ipython3",
   "version": "3.10.7"
  },
  "orig_nbformat": 4,
  "vscode": {
   "interpreter": {
    "hash": "6cddb53cd1f1b64126aa1da002a37976f95feb12322ff5029420bd887a02aefb"
   }
  }
 },
 "nbformat": 4,
 "nbformat_minor": 2
}
